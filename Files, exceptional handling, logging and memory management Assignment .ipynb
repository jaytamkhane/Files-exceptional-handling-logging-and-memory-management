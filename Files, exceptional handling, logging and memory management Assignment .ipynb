{
 "cells": [
  {
   "cell_type": "raw",
   "id": "a9a2c44d-cc68-4caa-8607-9d0eaa31204e",
   "metadata": {},
   "source": [
    "Thoery Questions"
   ]
  },
  {
   "cell_type": "markdown",
   "id": "64ce1b7e-82f6-4927-b1b1-97f6a6eaa11f",
   "metadata": {},
   "source": [
    "1) What is the difference between interpreted and compiled languages ?\n",
    ">  A compiled language is converted into machine code so that the processor can execute it. An interpreted language is a language in which the implementations execute instructions directly without earlier compiling a program into machine language. The compiled programs run faster than interpreted programs."
   ]
  },
  {
   "cell_type": "markdown",
   "id": "bd302908-426f-49da-803a-e9200e242e75",
   "metadata": {},
   "source": [
    "2) What is exception handling in Python ?\n",
    ">  Exception handling in Python is a mechanism that helps manage and respond to errors or exceptions that occur during the execution of a program. Exceptions are events that disrupt the normal flow of a program, such as attempting to divide by zero, accessing a nonexistent file, or using an undefined variable.Python provides a structured way to handle such errors, allowing the program to recover gracefully or perform specific actions when an error occurs. This prevents the program from crashing unexpectedly."
   ]
  },
  {
   "cell_type": "markdown",
   "id": "a199ec10-8392-42c5-b48a-913726d42851",
   "metadata": {},
   "source": [
    "3) What is the purpose of the finally block in exception handling ?\n",
    ">  The \"finally block\" in Python's exception handling serves the purpose of executing code that must run regardless of whether an exception occurred or not. It is typically used for cleanup actions such as releasing resources, closing files, or resetting states, ensuring that these tasks are performed under all circumstances."
   ]
  },
  {
   "cell_type": "markdown",
   "id": "d59653e1-3847-40a3-b3fe-91f1a53ed1f9",
   "metadata": {},
   "source": [
    "4) What is logging in Python ?\n",
    ">  Logging in Python is a way to track and record events that happen during a program's execution. It provides a systematic method for applications to output messages that are useful for debugging, monitoring, and understanding the flow of a program."
   ]
  },
  {
   "cell_type": "markdown",
   "id": "9d8d88a0-53f2-4781-ba99-760579eb6b51",
   "metadata": {},
   "source": [
    "5) What is the significance of the __del__ method in Python ?\n",
    ">  The __del__ method in Python is a special method, also known as a destructor. It is called when an object is about to be destroyed, typically when it goes out of scope or its reference count drops to zero. This method allows developers to define cleanup actions for the object before it is deallocated by Python's garbage collector."
   ]
  },
  {
   "cell_type": "markdown",
   "id": "4181955e-f2a3-4d94-ac12-9af9ed0b715e",
   "metadata": {},
   "source": [
    "6) What is the difference between import and from ... import in Python ?\n",
    ">  The difference is that \"from <module/file> import <class/module>\" is used for importing some specific thing from that file/module. In the other hand \"Import<module> is used for importing the whole module/file."
   ]
  },
  {
   "cell_type": "markdown",
   "id": "a5651ca5-b3dc-4737-a9a4-c0643d20613c",
   "metadata": {},
   "source": [
    "7) How can you handle multiple exceptions in Python ?\n",
    ">  In Python, you can handle multiple exceptions in various ways using the \"try-except\" construct. This allows you to deal with different types of exceptions that may occur during program execution."
   ]
  },
  {
   "cell_type": "markdown",
   "id": "c98d1ef2-310e-447b-9b99-2d1d92eee3ce",
   "metadata": {},
   "source": [
    "8) What is the purpose of the with statement when handling files in Python ?\n",
    ">  The with statement in Python is used to manage resources, such as file handling, in a clean and efficient way. When handling files, the with statement ensures that the file is properly closed after its usage, even if an exception occurs during file operations. This eliminates the need for explicitly calling the close() method and helps prevent resource leaks."
   ]
  },
  {
   "cell_type": "markdown",
   "id": "b21f9fc1-b5ff-49f3-a73c-1fcd3eb2e400",
   "metadata": {},
   "source": [
    "9) What is the difference between multithreading and multiprocessing ?\n",
    ">  Multithreading refers to the ability of a processor to execute multiple threads concurrently, where each thread runs a process. Multiprocessing refers to the ability of a system to run multiple processors in parallel, where each processor can run one or more threads."
   ]
  },
  {
   "cell_type": "markdown",
   "id": "9e41d644-5aff-4a9d-a9fb-36201f011518",
   "metadata": {},
   "source": [
    "10) What are the advantages of using logging in a program ?\n",
    ">   Logging in Python is a way to track events and errors in a program. It records useful messages about the program's actions, helping developers debug problems, monitor performance, and understand what the program is doing. Logs can be saved to files or shown on the screen and are better than print() because they provide more information, like timestamps and severity levels."
   ]
  },
  {
   "cell_type": "markdown",
   "id": "6f1855c7-f7a5-4fca-b7e2-d0eaf4fe39be",
   "metadata": {},
   "source": [
    "11) What is memory management in Python ?\n",
    ">   Memory management in Python refers to the process of efficiently allocating, utilizing, and deallocating memory during a program's execution.\n",
    "a) Dynamic Memory Allocation: Automatically allocating memory when creating objects.\n",
    "b) Garbage Collection: Reclaiming memory from objects no longer in use.\n",
    "c) Reference Counting: Tracking the number of references to each object.\n",
    "d) Memory Pools: Managing small object memory to reduce fragmentation.\n",
    "e) Private Heap Space: Storing all Python objects and data structures in a dedicated heap space managed by Python"
   ]
  },
  {
   "cell_type": "markdown",
   "id": "7dfe8f41-2921-4a58-a04b-5128ef7add4f",
   "metadata": {},
   "source": [
    "12) What are the basic steps involved in exception handling in Python ?\n",
    ">   The basic steps involved in exception handling in Python are as follows:\n",
    "a) Try Block: Place the code that might raise an exception in the try block.This ensures that the program doesn't crash if an error occurs.\n",
    "b) Except Block: Use one or more except blocks to specify how to handle specific exceptions.Each except block deals with a particular type of error.\n",
    "c) Else Block (Optional): The else block executes only if no exceptions are raised in the try block.It's useful for code that should run only when everything goes smoothly.\n",
    "e) Finally Block (Optional): The finally block always executes, whether an exception occurs or not.It's commonly used for cleanup operations like closing files or releasing resources."
   ]
  },
  {
   "cell_type": "markdown",
   "id": "37cab819-ff20-49a8-8692-e6d65ae61b11",
   "metadata": {},
   "source": [
    "13) Why is memory management important in Python ?\n",
    ">   Memory management is important in Python because it ensures efficient use of system memory, prevents memory leaks, and maintains the program's performance and stability."
   ]
  },
  {
   "cell_type": "markdown",
   "id": "65c87ad0-200a-474f-8699-8c87590efcca",
   "metadata": {},
   "source": [
    "14) What is the role of try and except in exception handling ?\n",
    ">   In Python, the try and except blocks play a crucial role in exception handling by allowing you to catch and handle errors gracefully, rather than letting the program crash.\n",
    "a) try Block: The try block is used to wrap code that might cause an exception (an error).The code inside the try block is executed normally, but if an exception occurs at any point, the flow is immediately transferred to the corresponding except block.\n",
    "b) except Block: The except block is where you specify how to handle the exception if it occurs in the try block.You can define multiple except blocks for different types of exceptions or use a single except block for all exceptions."
   ]
  },
  {
   "cell_type": "markdown",
   "id": "e6c7728a-2eaa-46bb-af96-ba40b7d2e0f3",
   "metadata": {},
   "source": [
    "15) How does Python's garbage collection system work ?\n",
    ">    The garbage collector in Python locates and releases memory occupied by objects that can no longer be accessed or referenced by the program's code."
   ]
  },
  {
   "cell_type": "markdown",
   "id": "40221aaa-b3c6-43c8-944f-d0b404840997",
   "metadata": {},
   "source": [
    "16) What is the purpose of the else block in exception handling ?\n",
    ">   The else block in Python's exception handling is used to define code that should run only if no exceptions occur in the try block. It is executed after the try block finishes successfully, meaning no exceptions were raised."
   ]
  },
  {
   "cell_type": "markdown",
   "id": "273c9bd8-5653-40ae-9290-0966e107ec9e",
   "metadata": {},
   "source": [
    "17) What are the common logging levels in Python ?\n",
    ">   In Python, the logging module provides a flexible framework for emitting log messages from Python programs. There are five standard logging levels : DEBUG, INFO, WARNING, ERROR AND CRITICAL."
   ]
  },
  {
   "cell_type": "markdown",
   "id": "107d4e1e-a9fa-4c33-85ab-4f8257cfa461",
   "metadata": {},
   "source": [
    "18) What is the difference between os.fork() and multiprocessing in Python ?\n",
    ">   The os.fork() and the multiprocessing module in Python are both used for creating new processes, but they serve different purposes and have different characteristics.\n",
    "a) Portability: os.fork() is not available on Windows, The multiprocessing module is cross-platform.\n",
    "b) Abstraction Level: The multiprocessing module provides a higher-level, more user-friendly interface. the os.fork() is a low-level system call with minimal abstraction.\n",
    "c) Usage: os.fork() is mainly useful for simple scenarios and requires more manual management of processes.The multiprocessing module is better suited for complex process management, as it provides various tools for process synchronization and communication."
   ]
  },
  {
   "cell_type": "markdown",
   "id": "5e0bf34d-200d-4383-8ed8-b300549b5df7",
   "metadata": {},
   "source": [
    "19) What is the importance of closing a file in Python ?\n",
    ">   Closing a file in Python is just as important as opening it. When a file is closed, Python frees up the system resources that were used during the file operation. If a file is not properly closed, it can lead to memory leaks, which can slow down your program or even cause it to crash."
   ]
  },
  {
   "cell_type": "markdown",
   "id": "d87be5fc-f88f-43fb-be35-66f50cb003dc",
   "metadata": {},
   "source": [
    "20) What is the difference between file.read() and file.readline() in Python ?\n",
    ">   In Python, file.read() and file.readline() are methods used to read content from a file. The file.read() Reads the entire file content as a string (or up to size bytes if specified) and The file.readline() Reads a single line from the file, including the newline character at the end."
   ]
  },
  {
   "cell_type": "markdown",
   "id": "3dc71c41-800c-4c32-9356-c156de544d22",
   "metadata": {},
   "source": [
    "21) What is the logging module in Python used for ?\n",
    ">   The logging module in Python is used to record (or log) events, errors, and informational messages from a program, allowing developers to track the program's execution and diagnose issues. It provides a flexible and standardized way to capture a wide range of information at different levels of importance."
   ]
  },
  {
   "cell_type": "markdown",
   "id": "20991799-bd11-4e77-9801-a0a65a150a5a",
   "metadata": {},
   "source": [
    "22) What is the os module in Python used for in file handling ?\n",
    ">   Python has a built-in os module with methods for interacting with the operating system, like creating files and directories, management of files and directories, input, output, environment variables, process management, etc."
   ]
  },
  {
   "cell_type": "markdown",
   "id": "25007b1c-0806-4204-a7df-a47cf7852901",
   "metadata": {},
   "source": [
    "23) What are the challenges associated with memory management in Python ?\n",
    ">   The challenges associated with memory management in Python:\n",
    "a) Reference Cycles: Python's garbage collector uses reference counting, which cannot handle objects that reference each other in a cycle.\n",
    "b) Memory Leaks: Challenge: Memory leaks can occur if objects are unintentionally kept alive due to lingering references.\n",
    "c) High Memory Usage for Certain Data Structures: Python’s built-in data structures (like lists and dictionaries) can consume more memory than their counterparts in lower-level languages due to internal overhead."
   ]
  },
  {
   "cell_type": "markdown",
   "id": "da817332-1068-40c4-ab61-97c98bfe3e29",
   "metadata": {},
   "source": [
    "24) How do you raise an exception manually in Python ?\n",
    ">   To manually raise an exception in Python, we can use the raise statement. Example:- \"raise ExceptionType(\"Error message\")\""
   ]
  },
  {
   "cell_type": "markdown",
   "id": "aa5bd493-c63a-4f3c-a8ae-2bf1164ead20",
   "metadata": {},
   "source": [
    "25) Why is it important to use multithreading in certain applications ?\n",
    ">   Multithreading makes multitasking possible when it breaks programs into smaller, executable threads. Each thread has the programming elements needed to execute the main program, and the computer executes each thread one at a time."
   ]
  },
  {
   "cell_type": "raw",
   "id": "af81a19a-07cc-433d-ade0-088484159ed3",
   "metadata": {},
   "source": [
    "Practical Questions"
   ]
  },
  {
   "cell_type": "code",
   "execution_count": 39,
   "id": "89d86722-e4d1-45e5-963e-8e4746b20974",
   "metadata": {},
   "outputs": [],
   "source": [
    "# 1) How can you open a file for writing in Python and write a string to it ?\n",
    "\n",
    "with open('example.txt', 'w') as file:\n",
    "    # Write a string to the file\n",
    "    file.write(\"Hello, World!\\n\")\n",
    "    file.write(\"My name is jay\\n\")\n",
    "    file.write(\"I study DA\\n\")"
   ]
  },
  {
   "cell_type": "code",
   "execution_count": 40,
   "id": "b82e694d-35ec-4c00-a313-15f28540f0a5",
   "metadata": {},
   "outputs": [
    {
     "name": "stdout",
     "output_type": "stream",
     "text": [
      "Hello, World!\n",
      "My name is jay\n",
      "I study DA\n"
     ]
    }
   ],
   "source": [
    "# 2) Write a Python program to read the contents of a file and print each line.\n",
    "\n",
    "with open('example.txt', 'r') as file:\n",
    "    for line in file:\n",
    "        print(line.strip())"
   ]
  },
  {
   "cell_type": "code",
   "execution_count": 12,
   "id": "93ad95e9-7596-4017-a977-fd08abc3846b",
   "metadata": {},
   "outputs": [
    {
     "name": "stdout",
     "output_type": "stream",
     "text": [
      "Error: The file 'example1.txt' does not exist.\n"
     ]
    }
   ],
   "source": [
    "# 3)  How would you handle a case where the file doesn't exist while trying to open it for reading.\n",
    "\n",
    "file_name = 'example1.txt'\n",
    "\n",
    "try:\n",
    "    # Attempt to open the file\n",
    "    with open(file_name, 'r') as file:\n",
    "        for line in file:\n",
    "            print(line.strip())\n",
    "except FileNotFoundError:\n",
    "    # Handle the case where the file doesn't exist\n",
    "    print(f\"Error: The file '{file_name}' does not exist.\")"
   ]
  },
  {
   "cell_type": "code",
   "execution_count": 13,
   "id": "b416b3b6-807a-4f95-b39a-d00206b08c71",
   "metadata": {},
   "outputs": [
    {
     "name": "stdout",
     "output_type": "stream",
     "text": [
      "Error: The source file 'source.txt' does not exist.\n"
     ]
    }
   ],
   "source": [
    "# 4) Write a Python script that reads from one file and writes its content to another file.\n",
    "\n",
    "source_file = 'source.txt'\n",
    "destination_file = 'destination.txt'\n",
    "\n",
    "try:\n",
    "    with open(source_file, 'r') as src, open(destination_file, 'w') as dest:\n",
    "        for line in src:\n",
    "            dest.write(line)\n",
    "    print(f\"Content has been successfully copied from '{source_file}' to '{destination_file}'.\")\n",
    "except FileNotFoundError:\n",
    "    print(f\"Error: The source file '{source_file}' does not exist.\")\n",
    "except Exception as e:\n",
    "    print(f\"An error occurred: {e}\")"
   ]
  },
  {
   "cell_type": "code",
   "execution_count": 15,
   "id": "0c5b7b0f-bf80-4a65-95ec-03a3792274c2",
   "metadata": {},
   "outputs": [
    {
     "name": "stdin",
     "output_type": "stream",
     "text": [
      "Enter the numerator:  10\n",
      "Enter the denominator:  0\n"
     ]
    },
    {
     "name": "stdout",
     "output_type": "stream",
     "text": [
      "Error: Division by zero is not allowed.\n"
     ]
    }
   ],
   "source": [
    "# 5) How would you catch and handle division by zero error in Python.\n",
    "\n",
    "try:\n",
    "    numerator = float(input(\"Enter the numerator: \"))\n",
    "    denominator = float(input(\"Enter the denominator: \"))\n",
    "    \n",
    "    result = numerator / denominator\n",
    "    print(f\"The result is: {result}\")\n",
    "except ZeroDivisionError:\n",
    "    print(\"Error: Division by zero is not allowed.\")\n",
    "except ValueError:\n",
    "    print(\"Error: Please enter valid numbers.\")\n",
    "except Exception as e:\n",
    "    print(f\"An unexpected error occurred: {e}\")"
   ]
  },
  {
   "cell_type": "code",
   "execution_count": 16,
   "id": "84a8ea79-2fa9-49c3-ab05-1cbf5e091503",
   "metadata": {},
   "outputs": [
    {
     "name": "stdin",
     "output_type": "stream",
     "text": [
      "Enter the numerator:  1\n",
      "Enter the denominator:  0\n"
     ]
    },
    {
     "name": "stdout",
     "output_type": "stream",
     "text": [
      "Error: Division by zero is not allowed.\n"
     ]
    }
   ],
   "source": [
    "# 6) Write a Python program that logs an error message to a log file when a division by zero exception occurs.\n",
    "\n",
    "import logging\n",
    "\n",
    "logging.basicConfig(filename='error_log.txt', level=logging.ERROR, format='%(asctime)s  %(levelname)s  %(message)s')\n",
    "\n",
    "def divide_numbers(numerator, denominator):\n",
    "    try:\n",
    "        result = numerator / denominator\n",
    "        print(f\"The result is: {result}\")\n",
    "    except ZeroDivisionError:\n",
    "        logging.error(\"Division by zero attempted.\")\n",
    "        print(\"Error: Division by zero is not allowed.\")\n",
    "\n",
    "try:\n",
    "    num = float(input(\"Enter the numerator: \"))\n",
    "    denom = float(input(\"Enter the denominator: \"))\n",
    "    divide_numbers(num, denom)\n",
    "except ValueError:\n",
    "    print(\"Error: Please enter valid numbers.\")"
   ]
  },
  {
   "cell_type": "code",
   "execution_count": 17,
   "id": "51304a12-ffb9-491f-9a48-881a1afb9068",
   "metadata": {},
   "outputs": [],
   "source": [
    "# 7) How do you log information at different levels (INFO, ERROR, WARNING) in Python using the logging module.\n",
    "\n",
    "import logging\n",
    "\n",
    "logging.basicConfig( filename='app.log', level=logging.DEBUG, format='%(asctime)s  %(levelname)s  %(message)s')\n",
    "\n",
    "# Logging at different levels\n",
    "logging.debug(\"This is a DEBUG message - detailed diagnostic information.\")\n",
    "logging.info(\"This is an INFO message - confirmation that things are working.\")\n",
    "logging.warning(\"This is a WARNING message - something unexpected happened.\")\n",
    "logging.error(\"This is an ERROR message - a serious issue occurred.\")\n",
    "logging.critical(\"This is a CRITICAL message - a severe error.\")"
   ]
  },
  {
   "cell_type": "code",
   "execution_count": 19,
   "id": "a80a5647-fb51-4264-a7bb-e98881e5e7f6",
   "metadata": {},
   "outputs": [
    {
     "name": "stdout",
     "output_type": "stream",
     "text": [
      "Error: The file 'nonexistent_file.txt' was not found.\n"
     ]
    }
   ],
   "source": [
    "# 8) Write a program to handle a file opening error using exception handling.\n",
    "\n",
    "def read_file(file_path):\n",
    "    try:\n",
    "        with open(file_path, 'r') as file:\n",
    "            content = file.read()\n",
    "            print(content)\n",
    "    except FileNotFoundError:\n",
    "        print(f\"Error: The file '{file_path}' was not found.\")\n",
    "\n",
    "# Trying to read a file\n",
    "file_path = 'nonexistent_file.txt'\n",
    "read_file(file_path)"
   ]
  },
  {
   "cell_type": "code",
   "execution_count": 33,
   "id": "db711069-8d0e-4263-b1a6-37077c63f7b8",
   "metadata": {},
   "outputs": [
    {
     "name": "stdout",
     "output_type": "stream",
     "text": [
      "Hello, World!\n",
      "My name is jay\n",
      "I study DA\n"
     ]
    }
   ],
   "source": [
    "# 9) How can you read a file line by line and store its content in a list in Python ?\n",
    "\n",
    "def read_file_to_list(file_path):\n",
    "    lines = []\n",
    "    try:\n",
    "        with open(file_path, 'r') as file:\n",
    "            for line in file:\n",
    "                lines.append(line.strip())\n",
    "    except FileNotFoundError:\n",
    "        print(f\"Error: The file '{file_path}' was not found.\")\n",
    "    return lines\n",
    "\n",
    "file_path = 'example.txt'\n",
    "content_list = read_file_to_list(file_path)\n",
    "\n",
    "for line in content_list:\n",
    "    print(line)"
   ]
  },
  {
   "cell_type": "code",
   "execution_count": 42,
   "id": "faf1d18e-1301-488c-90c1-1f1c7308dcfb",
   "metadata": {},
   "outputs": [
    {
     "name": "stdout",
     "output_type": "stream",
     "text": [
      "Data successfully appended to example.txt\n"
     ]
    }
   ],
   "source": [
    "# 10) How can you append data to an existing file in Python ?\n",
    "\n",
    "def append_to_file(file_path, data):\n",
    "    try:\n",
    "        with open(file_path, 'a') as file:\n",
    "            file.write(data + '\\n')\n",
    "        print(f\"Data successfully appended to {file_path}\")\n",
    "    except FileNotFoundError:\n",
    "        print(f\"Error: The file '{file_path}' was not found.\")\n",
    "    except IOError:\n",
    "        print(f\"Error: An IO error occurred while trying to write to the file '{file_path}'.\")\n",
    "\n",
    "file_path = 'example.txt'\n",
    "data_to_append = \"This is new data to append.\"\n",
    "append_to_file(file_path, data_to_append)"
   ]
  },
  {
   "cell_type": "code",
   "execution_count": 36,
   "id": "7671a9a6-7192-4e15-9b32-8190001ab5fe",
   "metadata": {},
   "outputs": [
    {
     "name": "stdout",
     "output_type": "stream",
     "text": [
      "jay\n",
      "Error: The key 'occupation' does not exist in the dictionary.\n",
      "None\n"
     ]
    }
   ],
   "source": [
    "# 11) Write a Python program that uses a try-except block to handle an error when attempting to access a dictionary key that doesn't exist.\n",
    "\n",
    "def get_value_from_dict(dictionary, key):\n",
    "    try:\n",
    "        value = dictionary[key]\n",
    "        return value\n",
    "    except KeyError:\n",
    "        print(f\"Error: The key '{key}' does not exist in the dictionary.\")\n",
    "        return None\n",
    "\n",
    "example_dict = {'name': 'jay', 'age': 100, 'city': 'Zotopia'}\n",
    "\n",
    "print(get_value_from_dict(example_dict, 'name'))\n",
    "print(get_value_from_dict(example_dict, 'occupation'))"
   ]
  },
  {
   "cell_type": "code",
   "execution_count": 37,
   "id": "ac566524-13e4-4d51-a0e2-83ef6c150b44",
   "metadata": {},
   "outputs": [
    {
     "name": "stdout",
     "output_type": "stream",
     "text": [
      "5.0\n",
      "Error: Division by zero is not allowed.\n",
      "None\n",
      "Error: Invalid data type. Please provide numbers.\n",
      "None\n",
      "Error: Invalid data type. Please provide numbers.\n",
      "None\n"
     ]
    }
   ],
   "source": [
    "# 12) Write a program that demonstrates using multiple except blocks to handle different types of exceptions.\n",
    "\n",
    "def divide_numbers(a, b):\n",
    "    try:\n",
    "        result = a / b\n",
    "        return result\n",
    "    except ZeroDivisionError:\n",
    "        print(\"Error: Division by zero is not allowed.\")\n",
    "        return None\n",
    "    except TypeError:\n",
    "        print(\"Error: Invalid data type. Please provide numbers.\")\n",
    "        return None\n",
    "    except Exception as e:\n",
    "        print(f\"An unexpected error occurred: {e}\")\n",
    "        return None\n",
    "\n",
    "print(divide_numbers(10, 2)) \n",
    "print(divide_numbers(10, 0))\n",
    "print(divide_numbers(10, 'a'))\n",
    "print(divide_numbers(10, None))"
   ]
  },
  {
   "cell_type": "code",
   "execution_count": 43,
   "id": "cc943285-6a9c-4f8e-b167-e8178ce94887",
   "metadata": {},
   "outputs": [
    {
     "name": "stdout",
     "output_type": "stream",
     "text": [
      "Hello, World!\n",
      "My name is jay\n",
      "I study DA\n",
      "This is new data to append.\n",
      "\n"
     ]
    }
   ],
   "source": [
    "# 13) How would you check if a file exists before attempting to read it in Python ?\n",
    "\n",
    "import os\n",
    "\n",
    "file_name = 'example.txt'\n",
    "\n",
    "if os.path.exists(file_name):\n",
    "    with open(file_name, 'r') as file:\n",
    "        print(file.read())\n",
    "else:\n",
    "    print(f\"The file '{file_name}' does not exist.\")"
   ]
  },
  {
   "cell_type": "code",
   "execution_count": 46,
   "id": "dceee69d-7e85-4b8c-a1d3-b0038f067de2",
   "metadata": {},
   "outputs": [],
   "source": [
    "# 14) Write a program that uses the logging module to log both informational and error messages.\n",
    "\n",
    "import logging\n",
    "\n",
    "logging.basicConfig(level=logging.DEBUG, format='%(levelname)s - %(message)s')\n",
    "logging.info(\"This is an informational message.\")\n",
    "\n",
    "try:\n",
    "    num = 10\n",
    "    denom = 0\n",
    "    result = num / denom\n",
    "except ZeroDivisionError as e:\n",
    "    logging.error(f\"Error occurred: {e}\")"
   ]
  },
  {
   "cell_type": "code",
   "execution_count": 61,
   "id": "2c18c500-4a16-4a5f-93b9-957ae0bacde6",
   "metadata": {},
   "outputs": [
    {
     "name": "stdout",
     "output_type": "stream",
     "text": [
      "The file is empty.\n"
     ]
    }
   ],
   "source": [
    "# 15) Write a Python program that prints the content of a file and handles the case when the file is empty.\n",
    "\n",
    "def print_file_content(file_path):\n",
    "    try:\n",
    "        with open(file_path, 'r') as file:\n",
    "            content = file.read()\n",
    "            if content:\n",
    "                print(\"File Content:\\n\")\n",
    "                print(content)\n",
    "            else:\n",
    "                print(\"The file is empty.\")\n",
    "    except FileNotFoundError:\n",
    "        print(f\"Error: The file '{file_path}' was not found.\")\n",
    "\n",
    "file_path = 'example1.txt'\n",
    "print_file_content(file_path)"
   ]
  },
  {
   "cell_type": "code",
   "execution_count": 30,
   "id": "65d8dcf4-656a-4062-897f-75cba330207e",
   "metadata": {},
   "outputs": [
    {
     "name": "stdout",
     "output_type": "stream",
     "text": [
      "Requirement already satisfied: memory-profiler in c:\\users\\jayta\\anaconda3\\lib\\site-packages (0.61.0)\n",
      "Requirement already satisfied: psutil in c:\\users\\jayta\\anaconda3\\lib\\site-packages (from memory-profiler) (5.9.0)\n",
      "ERROR: Could not find file C:\\Users\\jayta\\AppData\\Local\\Temp\\ipykernel_1352\\4275123863.py\n"
     ]
    }
   ],
   "source": [
    "# 16) Demonstrate how to use memory profiling to check the memory usage of a small program.\n",
    "!pip install memory-profiler\n",
    "from memory_profiler import profile\n",
    "\n",
    "@profile\n",
    "def simple_function():\n",
    "    a = [i for i in range(100000)]  # Create a large list\n",
    "    b = sum(a)  # Calculate the sum of the list\n",
    "    return b\n",
    "\n",
    "if __name__ == \"__main__\":\n",
    "    simple_function()"
   ]
  },
  {
   "cell_type": "code",
   "execution_count": 2,
   "id": "b0f32aa1-98ff-4b22-9e42-77bf7a2be85b",
   "metadata": {},
   "outputs": [
    {
     "name": "stdout",
     "output_type": "stream",
     "text": [
      "1\n",
      "2\n",
      "3\n",
      "4\n",
      "5\n",
      "6\n",
      "7\n",
      "8\n",
      "9\n",
      "10\n",
      "\n"
     ]
    }
   ],
   "source": [
    "# 17) Write a Python program to create and write a list of numbers to a file, one number per line.\n",
    "\n",
    "numbers = [1, 2, 3, 4, 5, 6, 7, 8, 9, 10]\n",
    "filename = \"numbers.txt\"\n",
    "\n",
    "with open(filename, \"w\") as file:\n",
    "    for number in numbers:\n",
    "        file.write(f\"{number}\\n\")\n",
    "\n",
    "with open(filename, \"r\") as file:\n",
    "    print(file.read())"
   ]
  },
  {
   "cell_type": "code",
   "execution_count": 7,
   "id": "372bf967-c675-4d99-90a7-bdcfdb870d7d",
   "metadata": {},
   "outputs": [],
   "source": [
    "# 18) How would you implement a basic logging setup that logs to a file with rotation after 1 MB ?\n",
    "\n",
    "import logging\n",
    "from logging.handlers import RotatingFileHandler\n",
    "\n",
    "log_filename = \"simple_app.log\"\n",
    "\n",
    "handler = RotatingFileHandler(log_filename, maxBytes=1_000_000, backupCount=3)\n",
    "logging.basicConfig( level=logging.INFO, format=\"%(asctime)s - %(message)s\", handlers=[handler])\n",
    "\n",
    "logging.info(\"Logging started!\")\n",
    "for i in range(1000):\n",
    "    logging.info(f\"Log message #{i}\")"
   ]
  },
  {
   "cell_type": "code",
   "execution_count": 8,
   "id": "a21c4bb1-ac30-4f87-a7cc-acf7a240d5a0",
   "metadata": {},
   "outputs": [
    {
     "name": "stdout",
     "output_type": "stream",
     "text": [
      "IndexError occurred: list index out of range\n"
     ]
    }
   ],
   "source": [
    "# 19) Write a program that handles both IndexError and KeyError using a try-except block.\n",
    "\n",
    "my_list = [10, 20, 30]\n",
    "my_dict = {\"a\": 1, \"b\": 2, \"c\": 3}\n",
    "\n",
    "try:\n",
    "    # Attempt to access an out-of-range index in the list\n",
    "    print(my_list[5])\n",
    "\n",
    "    # Attempt to access a non-existent key in the dictionary\n",
    "    print(my_dict[\"z\"])\n",
    "\n",
    "except IndexError as e:\n",
    "    print(f\"IndexError occurred: {e}\")\n",
    "\n",
    "except KeyError as e:\n",
    "    print(f\"KeyError occurred: {e}\")"
   ]
  },
  {
   "cell_type": "code",
   "execution_count": 21,
   "id": "31789e1b-3b22-4806-8965-044717cffc1a",
   "metadata": {},
   "outputs": [
    {
     "name": "stdout",
     "output_type": "stream",
     "text": [
      "Hello, World!\n",
      "My name is jay\n",
      "I study DA\n",
      "This is new data to append.\n",
      "\n"
     ]
    }
   ],
   "source": [
    "# 20) How would you open a file and read its contents using a context manager in Python ?\n",
    "\n",
    "filename = \"example.txt\"\n",
    "\n",
    "with open(filename, \"r\") as file:\n",
    "    contents = file.read()\n",
    "\n",
    "# Print the file contents\n",
    "print(contents)"
   ]
  },
  {
   "cell_type": "code",
   "execution_count": 19,
   "id": "529891d1-629a-4d05-b74b-dbc796d84581",
   "metadata": {},
   "outputs": [
    {
     "name": "stdout",
     "output_type": "stream",
     "text": [
      "The word 'The' occurs 2 times in the file.\n"
     ]
    }
   ],
   "source": [
    "# 21) Write a Python program that reads a file and prints the number of occurrences of a specific word.\n",
    "\n",
    "def count_word_occurrences(file_path, word_to_count):\n",
    "    try:\n",
    "        with open(file_path, 'r') as file:\n",
    "            content = file.read()\n",
    "            word_count = content.lower().split().count(word_to_count.lower())\n",
    "        print(f\"The word '{word_to_count}' occurs {word_count} times in the file.\")\n",
    "    except FileNotFoundError:\n",
    "        print(f\"The file at {file_path} was not found.\")\n",
    "    except Exception as e:\n",
    "        print(f\"An error occurred: {e}\")\n",
    "\n",
    "file_path = 'example1.txt'\n",
    "word_to_count = 'The'\n",
    "count_word_occurrences(file_path, word_to_count)"
   ]
  },
  {
   "cell_type": "code",
   "execution_count": 20,
   "id": "52708119-441d-4d2f-89f3-00e0ac689070",
   "metadata": {},
   "outputs": [
    {
     "name": "stdout",
     "output_type": "stream",
     "text": [
      "The file is empty.\n"
     ]
    }
   ],
   "source": [
    "# 22) How can you check if a file is empty before attempting to read its contents ?\n",
    "\n",
    "import os\n",
    "\n",
    "def count_word_occurrences(file_path, word_to_count):\n",
    "    # Check if the file is empty\n",
    "    if os.path.getsize(file_path) == 0:\n",
    "        print(\"The file is empty.\")\n",
    "        return\n",
    "\n",
    "    with open(file_path, 'r') as file:\n",
    "        content = file.read()  # Read all content from the file\n",
    "\n",
    "    word_count = content.split().count(word_to_count)\n",
    "\n",
    "    print(f\"The word '{word_to_count}' occurs {word_count} times in the file.\")\n",
    "\n",
    "file_path = 'app_log.txt'\n",
    "word_to_count = 'example'\n",
    "count_word_occurrences(file_path, word_to_count)"
   ]
  },
  {
   "cell_type": "code",
   "execution_count": 18,
   "id": "c48dda47-0d9f-42c1-bbcd-872af94ce761",
   "metadata": {},
   "outputs": [
    {
     "name": "stdout",
     "output_type": "stream",
     "text": [
      "Error: The file 'your_file.txt' was not found.\n"
     ]
    }
   ],
   "source": [
    "# 23) Write a Python program that writes to a log file when an error occurs during file handling.\n",
    "\n",
    "import os\n",
    "import logging\n",
    "\n",
    "logging.basicConfig(filename='file_error_log.txt', level=logging.ERROR, format='%(asctime)s - %(levelname)s - %(message)s')\n",
    "\n",
    "def count_word_occurrences(file_path, word_to_count):\n",
    "    try:\n",
    "        if os.path.getsize(file_path) == 0:\n",
    "            raise ValueError(\"The file is empty.\")\n",
    "\n",
    "        with open(file_path, 'r') as file:\n",
    "            content = file.read()  # Read all content from the file\n",
    "\n",
    "        word_count = content.split().count(word_to_count)\n",
    "\n",
    "        print(f\"The word '{word_to_count}' occurs {word_count} times in the file.\")\n",
    "    \n",
    "    except FileNotFoundError:\n",
    "        error_message = f\"Error: The file '{file_path}' was not found.\"\n",
    "        print(error_message)\n",
    "        logging.error(error_message)\n",
    "    \n",
    "    except ValueError as ve:\n",
    "        error_message = f\"ValueError: {ve}\"\n",
    "        print(error_message)\n",
    "        logging.error(error_message)\n",
    "    \n",
    "    except Exception as e:\n",
    "        error_message = f\"An unexpected error occurred: {str(e)}\"\n",
    "        print(error_message)\n",
    "        logging.error(error_message)\n",
    "\n",
    "\n",
    "file_path = 'your_file.txt'\n",
    "word_to_count = 'example'\n",
    "count_word_occurrences(file_path, word_to_count)"
   ]
  }
 ],
 "metadata": {
  "kernelspec": {
   "display_name": "Python 3 (ipykernel)",
   "language": "python",
   "name": "python3"
  },
  "language_info": {
   "codemirror_mode": {
    "name": "ipython",
    "version": 3
   },
   "file_extension": ".py",
   "mimetype": "text/x-python",
   "name": "python",
   "nbconvert_exporter": "python",
   "pygments_lexer": "ipython3",
   "version": "3.12.7"
  }
 },
 "nbformat": 4,
 "nbformat_minor": 5
}
